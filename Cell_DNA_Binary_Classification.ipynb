{
  "nbformat": 4,
  "nbformat_minor": 0,
  "metadata": {
    "colab": {
      "provenance": []
    },
    "kernelspec": {
      "name": "python3",
      "display_name": "Python 3"
    },
    "language_info": {
      "name": "python"
    }
  },
  "cells": [
    {
      "cell_type": "markdown",
      "source": [
        "The dataset CellDNA.csv contains various measurements (e.g., size, center, texture) of thousands of bacteria observed under a microscope. The last column represents the target variable:\n",
        "\n",
        "- Non-zero values indicate bacteria that are of interest for further study.\n",
        "\n",
        "- Zero values indicate bacteria that are not considered interesting.\n",
        "\n",
        "To simplify the task into a binary classification problem, the target column is converted into:\n",
        "\n",
        "- 1 for interesting bacteria (non-zero values)\n",
        "\n",
        "- 0 for non-interesting bacteria\n",
        "\n",
        "Project Objectives\n",
        "1. Design a neural network model to classify bacteria as either interesting (1) or not (0).\n",
        "\n",
        "2. Evaluate the model’s performance and analyze its classification results."
      ],
      "metadata": {
        "id": "bkAZRr0T6qOR"
      }
    },
    {
      "cell_type": "code",
      "execution_count": 1,
      "metadata": {
        "id": "m0fegZElYN80"
      },
      "outputs": [],
      "source": [
        "import numpy as np\n",
        "import pandas as pd\n",
        "import seaborn as sn\n",
        "import matplotlib.pyplot as plt\n",
        "from sklearn import preprocessing\n",
        "from sklearn.metrics import classification_report, confusion_matrix, accuracy_score\n",
        "from sklearn.model_selection import train_test_split\n",
        "from tensorflow.keras.models import Sequential\n",
        "from tensorflow.keras.layers import Dense, Activation\n",
        "from tensorflow.keras.optimizers import Adam\n",
        "from tensorflow.keras import utils\n",
        "from tensorflow.keras.utils import to_categorical,plot_model\n"
      ]
    },
    {
      "cell_type": "code",
      "source": [
        "# load file from local\n",
        "from google.colab import files\n",
        "uploaded = files.upload()"
      ],
      "metadata": {
        "colab": {
          "base_uri": "https://localhost:8080/",
          "height": 71
        },
        "id": "zY9bAmHKYRih",
        "outputId": "cb05bac4-9239-4d7c-ae39-8439c7c102bf"
      },
      "execution_count": 2,
      "outputs": [
        {
          "output_type": "display_data",
          "data": {
            "text/plain": [
              "<IPython.core.display.HTML object>"
            ],
            "text/html": [
              "\n",
              "     <input type=\"file\" id=\"files-ed445fe4-65ab-4e7a-9d62-d23f8e389ac5\" name=\"files[]\" multiple disabled\n",
              "        style=\"border:none\" />\n",
              "     <output id=\"result-ed445fe4-65ab-4e7a-9d62-d23f8e389ac5\">\n",
              "      Upload widget is only available when the cell has been executed in the\n",
              "      current browser session. Please rerun this cell to enable.\n",
              "      </output>\n",
              "      <script>// Copyright 2017 Google LLC\n",
              "//\n",
              "// Licensed under the Apache License, Version 2.0 (the \"License\");\n",
              "// you may not use this file except in compliance with the License.\n",
              "// You may obtain a copy of the License at\n",
              "//\n",
              "//      http://www.apache.org/licenses/LICENSE-2.0\n",
              "//\n",
              "// Unless required by applicable law or agreed to in writing, software\n",
              "// distributed under the License is distributed on an \"AS IS\" BASIS,\n",
              "// WITHOUT WARRANTIES OR CONDITIONS OF ANY KIND, either express or implied.\n",
              "// See the License for the specific language governing permissions and\n",
              "// limitations under the License.\n",
              "\n",
              "/**\n",
              " * @fileoverview Helpers for google.colab Python module.\n",
              " */\n",
              "(function(scope) {\n",
              "function span(text, styleAttributes = {}) {\n",
              "  const element = document.createElement('span');\n",
              "  element.textContent = text;\n",
              "  for (const key of Object.keys(styleAttributes)) {\n",
              "    element.style[key] = styleAttributes[key];\n",
              "  }\n",
              "  return element;\n",
              "}\n",
              "\n",
              "// Max number of bytes which will be uploaded at a time.\n",
              "const MAX_PAYLOAD_SIZE = 100 * 1024;\n",
              "\n",
              "function _uploadFiles(inputId, outputId) {\n",
              "  const steps = uploadFilesStep(inputId, outputId);\n",
              "  const outputElement = document.getElementById(outputId);\n",
              "  // Cache steps on the outputElement to make it available for the next call\n",
              "  // to uploadFilesContinue from Python.\n",
              "  outputElement.steps = steps;\n",
              "\n",
              "  return _uploadFilesContinue(outputId);\n",
              "}\n",
              "\n",
              "// This is roughly an async generator (not supported in the browser yet),\n",
              "// where there are multiple asynchronous steps and the Python side is going\n",
              "// to poll for completion of each step.\n",
              "// This uses a Promise to block the python side on completion of each step,\n",
              "// then passes the result of the previous step as the input to the next step.\n",
              "function _uploadFilesContinue(outputId) {\n",
              "  const outputElement = document.getElementById(outputId);\n",
              "  const steps = outputElement.steps;\n",
              "\n",
              "  const next = steps.next(outputElement.lastPromiseValue);\n",
              "  return Promise.resolve(next.value.promise).then((value) => {\n",
              "    // Cache the last promise value to make it available to the next\n",
              "    // step of the generator.\n",
              "    outputElement.lastPromiseValue = value;\n",
              "    return next.value.response;\n",
              "  });\n",
              "}\n",
              "\n",
              "/**\n",
              " * Generator function which is called between each async step of the upload\n",
              " * process.\n",
              " * @param {string} inputId Element ID of the input file picker element.\n",
              " * @param {string} outputId Element ID of the output display.\n",
              " * @return {!Iterable<!Object>} Iterable of next steps.\n",
              " */\n",
              "function* uploadFilesStep(inputId, outputId) {\n",
              "  const inputElement = document.getElementById(inputId);\n",
              "  inputElement.disabled = false;\n",
              "\n",
              "  const outputElement = document.getElementById(outputId);\n",
              "  outputElement.innerHTML = '';\n",
              "\n",
              "  const pickedPromise = new Promise((resolve) => {\n",
              "    inputElement.addEventListener('change', (e) => {\n",
              "      resolve(e.target.files);\n",
              "    });\n",
              "  });\n",
              "\n",
              "  const cancel = document.createElement('button');\n",
              "  inputElement.parentElement.appendChild(cancel);\n",
              "  cancel.textContent = 'Cancel upload';\n",
              "  const cancelPromise = new Promise((resolve) => {\n",
              "    cancel.onclick = () => {\n",
              "      resolve(null);\n",
              "    };\n",
              "  });\n",
              "\n",
              "  // Wait for the user to pick the files.\n",
              "  const files = yield {\n",
              "    promise: Promise.race([pickedPromise, cancelPromise]),\n",
              "    response: {\n",
              "      action: 'starting',\n",
              "    }\n",
              "  };\n",
              "\n",
              "  cancel.remove();\n",
              "\n",
              "  // Disable the input element since further picks are not allowed.\n",
              "  inputElement.disabled = true;\n",
              "\n",
              "  if (!files) {\n",
              "    return {\n",
              "      response: {\n",
              "        action: 'complete',\n",
              "      }\n",
              "    };\n",
              "  }\n",
              "\n",
              "  for (const file of files) {\n",
              "    const li = document.createElement('li');\n",
              "    li.append(span(file.name, {fontWeight: 'bold'}));\n",
              "    li.append(span(\n",
              "        `(${file.type || 'n/a'}) - ${file.size} bytes, ` +\n",
              "        `last modified: ${\n",
              "            file.lastModifiedDate ? file.lastModifiedDate.toLocaleDateString() :\n",
              "                                    'n/a'} - `));\n",
              "    const percent = span('0% done');\n",
              "    li.appendChild(percent);\n",
              "\n",
              "    outputElement.appendChild(li);\n",
              "\n",
              "    const fileDataPromise = new Promise((resolve) => {\n",
              "      const reader = new FileReader();\n",
              "      reader.onload = (e) => {\n",
              "        resolve(e.target.result);\n",
              "      };\n",
              "      reader.readAsArrayBuffer(file);\n",
              "    });\n",
              "    // Wait for the data to be ready.\n",
              "    let fileData = yield {\n",
              "      promise: fileDataPromise,\n",
              "      response: {\n",
              "        action: 'continue',\n",
              "      }\n",
              "    };\n",
              "\n",
              "    // Use a chunked sending to avoid message size limits. See b/62115660.\n",
              "    let position = 0;\n",
              "    do {\n",
              "      const length = Math.min(fileData.byteLength - position, MAX_PAYLOAD_SIZE);\n",
              "      const chunk = new Uint8Array(fileData, position, length);\n",
              "      position += length;\n",
              "\n",
              "      const base64 = btoa(String.fromCharCode.apply(null, chunk));\n",
              "      yield {\n",
              "        response: {\n",
              "          action: 'append',\n",
              "          file: file.name,\n",
              "          data: base64,\n",
              "        },\n",
              "      };\n",
              "\n",
              "      let percentDone = fileData.byteLength === 0 ?\n",
              "          100 :\n",
              "          Math.round((position / fileData.byteLength) * 100);\n",
              "      percent.textContent = `${percentDone}% done`;\n",
              "\n",
              "    } while (position < fileData.byteLength);\n",
              "  }\n",
              "\n",
              "  // All done.\n",
              "  yield {\n",
              "    response: {\n",
              "      action: 'complete',\n",
              "    }\n",
              "  };\n",
              "}\n",
              "\n",
              "scope.google = scope.google || {};\n",
              "scope.google.colab = scope.google.colab || {};\n",
              "scope.google.colab._files = {\n",
              "  _uploadFiles,\n",
              "  _uploadFilesContinue,\n",
              "};\n",
              "})(self);\n",
              "</script> "
            ]
          },
          "metadata": {}
        },
        {
          "output_type": "stream",
          "name": "stdout",
          "text": [
            "Saving CellDNA.csv to CellDNA.csv\n"
          ]
        }
      ]
    },
    {
      "cell_type": "markdown",
      "source": [
        "### Data Processing and Model Training"
      ],
      "metadata": {
        "id": "bsRn4ozsktnL"
      }
    },
    {
      "cell_type": "markdown",
      "source": [
        "#### Import Data and Data Pre-processing"
      ],
      "metadata": {
        "id": "iJHsGHEp2iBr"
      }
    },
    {
      "cell_type": "code",
      "source": [
        "df = pd.read_csv('CellDNA.csv', header=None)\n",
        "df.head()\n",
        "\n",
        "# Define X and y\n",
        "X,raw_y = np.split(df,[-1],axis=1)\n",
        "\n",
        "# Scale the features (excluding the last column)\n",
        "X = preprocessing.scale(X)\n",
        "\n",
        "# Separate the features and the target\n",
        "y = np.where(raw_y == 0, 0, 1)"
      ],
      "metadata": {
        "id": "TTHjY49KYSCp",
        "colab": {
          "base_uri": "https://localhost:8080/"
        },
        "outputId": "ddd7a64c-5cf9-4adf-f0fa-f8473e6a4dc6"
      },
      "execution_count": 3,
      "outputs": [
        {
          "output_type": "stream",
          "name": "stderr",
          "text": [
            "/usr/local/lib/python3.11/dist-packages/numpy/_core/fromnumeric.py:57: FutureWarning: 'DataFrame.swapaxes' is deprecated and will be removed in a future version. Please use 'DataFrame.transpose' instead.\n",
            "  return bound(*args, **kwds)\n"
          ]
        }
      ]
    },
    {
      "cell_type": "markdown",
      "source": [
        "#### Model Design"
      ],
      "metadata": {
        "id": "BdVG70V6kwxG"
      }
    },
    {
      "cell_type": "markdown",
      "source": [
        "As its binary classification, the final layer has 2 outputs."
      ],
      "metadata": {
        "id": "e3neXO3ZzCl0"
      }
    },
    {
      "cell_type": "code",
      "source": [
        "# Define the model\n",
        "model = Sequential()\n",
        "model.add(Dense(units=2, input_dim=13, activation='tanh'))\n",
        "model.add(Dense(units=2, activation='softmax'))  # Output layer with 2 units\n",
        "\n",
        "model.summary()\n"
      ],
      "metadata": {
        "colab": {
          "base_uri": "https://localhost:8080/",
          "height": 248
        },
        "id": "FlMoOha-ZQb9",
        "outputId": "d7fbd986-0aea-437b-a0e4-14301246c43e"
      },
      "execution_count": 4,
      "outputs": [
        {
          "output_type": "stream",
          "name": "stderr",
          "text": [
            "/usr/local/lib/python3.11/dist-packages/keras/src/layers/core/dense.py:87: UserWarning: Do not pass an `input_shape`/`input_dim` argument to a layer. When using Sequential models, prefer using an `Input(shape)` object as the first layer in the model instead.\n",
            "  super().__init__(activity_regularizer=activity_regularizer, **kwargs)\n"
          ]
        },
        {
          "output_type": "display_data",
          "data": {
            "text/plain": [
              "\u001b[1mModel: \"sequential\"\u001b[0m\n"
            ],
            "text/html": [
              "<pre style=\"white-space:pre;overflow-x:auto;line-height:normal;font-family:Menlo,'DejaVu Sans Mono',consolas,'Courier New',monospace\"><span style=\"font-weight: bold\">Model: \"sequential\"</span>\n",
              "</pre>\n"
            ]
          },
          "metadata": {}
        },
        {
          "output_type": "display_data",
          "data": {
            "text/plain": [
              "┏━━━━━━━━━━━━━━━━━━━━━━━━━━━━━━━━━┳━━━━━━━━━━━━━━━━━━━━━━━━┳━━━━━━━━━━━━━━━┓\n",
              "┃\u001b[1m \u001b[0m\u001b[1mLayer (type)                   \u001b[0m\u001b[1m \u001b[0m┃\u001b[1m \u001b[0m\u001b[1mOutput Shape          \u001b[0m\u001b[1m \u001b[0m┃\u001b[1m \u001b[0m\u001b[1m      Param #\u001b[0m\u001b[1m \u001b[0m┃\n",
              "┡━━━━━━━━━━━━━━━━━━━━━━━━━━━━━━━━━╇━━━━━━━━━━━━━━━━━━━━━━━━╇━━━━━━━━━━━━━━━┩\n",
              "│ dense (\u001b[38;5;33mDense\u001b[0m)                   │ (\u001b[38;5;45mNone\u001b[0m, \u001b[38;5;34m2\u001b[0m)              │            \u001b[38;5;34m28\u001b[0m │\n",
              "├─────────────────────────────────┼────────────────────────┼───────────────┤\n",
              "│ dense_1 (\u001b[38;5;33mDense\u001b[0m)                 │ (\u001b[38;5;45mNone\u001b[0m, \u001b[38;5;34m2\u001b[0m)              │             \u001b[38;5;34m6\u001b[0m │\n",
              "└─────────────────────────────────┴────────────────────────┴───────────────┘\n"
            ],
            "text/html": [
              "<pre style=\"white-space:pre;overflow-x:auto;line-height:normal;font-family:Menlo,'DejaVu Sans Mono',consolas,'Courier New',monospace\">┏━━━━━━━━━━━━━━━━━━━━━━━━━━━━━━━━━┳━━━━━━━━━━━━━━━━━━━━━━━━┳━━━━━━━━━━━━━━━┓\n",
              "┃<span style=\"font-weight: bold\"> Layer (type)                    </span>┃<span style=\"font-weight: bold\"> Output Shape           </span>┃<span style=\"font-weight: bold\">       Param # </span>┃\n",
              "┡━━━━━━━━━━━━━━━━━━━━━━━━━━━━━━━━━╇━━━━━━━━━━━━━━━━━━━━━━━━╇━━━━━━━━━━━━━━━┩\n",
              "│ dense (<span style=\"color: #0087ff; text-decoration-color: #0087ff\">Dense</span>)                   │ (<span style=\"color: #00d7ff; text-decoration-color: #00d7ff\">None</span>, <span style=\"color: #00af00; text-decoration-color: #00af00\">2</span>)              │            <span style=\"color: #00af00; text-decoration-color: #00af00\">28</span> │\n",
              "├─────────────────────────────────┼────────────────────────┼───────────────┤\n",
              "│ dense_1 (<span style=\"color: #0087ff; text-decoration-color: #0087ff\">Dense</span>)                 │ (<span style=\"color: #00d7ff; text-decoration-color: #00d7ff\">None</span>, <span style=\"color: #00af00; text-decoration-color: #00af00\">2</span>)              │             <span style=\"color: #00af00; text-decoration-color: #00af00\">6</span> │\n",
              "└─────────────────────────────────┴────────────────────────┴───────────────┘\n",
              "</pre>\n"
            ]
          },
          "metadata": {}
        },
        {
          "output_type": "display_data",
          "data": {
            "text/plain": [
              "\u001b[1m Total params: \u001b[0m\u001b[38;5;34m34\u001b[0m (136.00 B)\n"
            ],
            "text/html": [
              "<pre style=\"white-space:pre;overflow-x:auto;line-height:normal;font-family:Menlo,'DejaVu Sans Mono',consolas,'Courier New',monospace\"><span style=\"font-weight: bold\"> Total params: </span><span style=\"color: #00af00; text-decoration-color: #00af00\">34</span> (136.00 B)\n",
              "</pre>\n"
            ]
          },
          "metadata": {}
        },
        {
          "output_type": "display_data",
          "data": {
            "text/plain": [
              "\u001b[1m Trainable params: \u001b[0m\u001b[38;5;34m34\u001b[0m (136.00 B)\n"
            ],
            "text/html": [
              "<pre style=\"white-space:pre;overflow-x:auto;line-height:normal;font-family:Menlo,'DejaVu Sans Mono',consolas,'Courier New',monospace\"><span style=\"font-weight: bold\"> Trainable params: </span><span style=\"color: #00af00; text-decoration-color: #00af00\">34</span> (136.00 B)\n",
              "</pre>\n"
            ]
          },
          "metadata": {}
        },
        {
          "output_type": "display_data",
          "data": {
            "text/plain": [
              "\u001b[1m Non-trainable params: \u001b[0m\u001b[38;5;34m0\u001b[0m (0.00 B)\n"
            ],
            "text/html": [
              "<pre style=\"white-space:pre;overflow-x:auto;line-height:normal;font-family:Menlo,'DejaVu Sans Mono',consolas,'Courier New',monospace\"><span style=\"font-weight: bold\"> Non-trainable params: </span><span style=\"color: #00af00; text-decoration-color: #00af00\">0</span> (0.00 B)\n",
              "</pre>\n"
            ]
          },
          "metadata": {}
        }
      ]
    },
    {
      "cell_type": "code",
      "source": [
        "plot_model(model, to_file='model_architect.png', show_shapes=True, show_layer_names=True)\n",
        "\n"
      ],
      "metadata": {
        "colab": {
          "base_uri": "https://localhost:8080/",
          "height": 606
        },
        "id": "dN80ELKdhmtj",
        "outputId": "38c45910-e84a-410a-8647-1d11b4345e41"
      },
      "execution_count": 5,
      "outputs": [
        {
          "output_type": "execute_result",
          "data": {
            "image/png": "[encoded data removed]",
            "text/plain": [
              "<IPython.core.display.Image object>"
            ]
          },
          "metadata": {},
          "execution_count": 5
        }
      ]
    },
    {
      "cell_type": "code",
      "source": [
        "df"
      ],
      "metadata": {
        "colab": {
          "base_uri": "https://localhost:8080/",
          "height": 424
        },
        "id": "ffG2OQiKb7yJ",
        "outputId": "f3e36985-9ef3-478b-990a-f6beae7705cb"
      },
      "execution_count": 6,
      "outputs": [
        {
          "output_type": "execute_result",
          "data": {
            "text/plain": [
              "       0           1           2          3          4         5          6   \\\n",
              "0     222   31.189189   40.342342  35.579087   8.883917  0.968325 -80.113673   \n",
              "1      73   29.493151  271.397260  15.517202   6.407490  0.910764  76.042946   \n",
              "2     256   58.816406  289.941406  37.226013   9.863895  0.964256  85.324742   \n",
              "3     126   71.023810  477.412698  13.112980  12.790672  0.220351  63.523477   \n",
              "4     225   90.808889  541.946667  44.463110   7.858879  0.984256 -52.874983   \n",
              "...   ...         ...         ...        ...        ...       ...        ...   \n",
              "1212  216  738.527778  216.449074  38.229761   9.556174  0.968254  12.847813   \n",
              "1213  328  748.896341   47.664634  63.138991   9.101974  0.989555  57.919494   \n",
              "1214   97  761.690722  207.288660  22.751513   8.230351  0.932275 -24.674618   \n",
              "1215  223  770.654708  235.502242  53.491654   8.643053  0.986860  73.244715   \n",
              "1216   87  764.954023  265.655172  13.459738   8.521929  0.774035  18.595633   \n",
              "\n",
              "       7   8          9         10        11       12  13  \n",
              "0     222   1  16.812471  0.816176  0.578125   78.591   0  \n",
              "1      73   1   9.640876  0.858824  0.608333   39.217   0  \n",
              "2     256   1  18.054067  0.752941  0.562637   89.111   0  \n",
              "3     126   1  12.666025  0.881119  0.646154   43.832   0  \n",
              "4     225   1  16.925688  0.728155  0.252525   90.072   7  \n",
              "...   ...  ..        ...       ...       ...      ...  ..  \n",
              "1212  216   1  16.583719  0.640950  0.397059   98.589   0  \n",
              "1213  328   1  20.435816  0.607407  0.205257  131.431   8  \n",
              "1214   97   1  11.113246  0.591463  0.384921   67.427   0  \n",
              "1215  223   1  16.850294  0.557500  0.252834  112.656   0  \n",
              "1216   87   1  10.524820  0.956044  0.743590   32.295   0  \n",
              "\n",
              "[1217 rows x 14 columns]"
            ],
            "text/html": [
              "\n",
              "  <div id=\"df-19da74c0-81e2-4f7b-a74f-244facadf8c8\" class=\"colab-df-container\">\n",
              "    <div>\n",
              "<style scoped>\n",
              "    .dataframe tbody tr th:only-of-type {\n",
              "        vertical-align: middle;\n",
              "    }\n",
              "\n",
              "    .dataframe tbody tr th {\n",
              "        vertical-align: top;\n",
              "    }\n",
              "\n",
              "    .dataframe thead th {\n",
              "        text-align: right;\n",
              "    }\n",
              "</style>\n",
              "<table border=\"1\" class=\"dataframe\">\n",
              "  <thead>\n",
              "    <tr style=\"text-align: right;\">\n",
              "      <th></th>\n",
              "      <th>0</th>\n",
              "      <th>1</th>\n",
              "      <th>2</th>\n",
              "      <th>3</th>\n",
              "      <th>4</th>\n",
              "      <th>5</th>\n",
              "      <th>6</th>\n",
              "      <th>7</th>\n",
              "      <th>8</th>\n",
              "      <th>9</th>\n",
              "      <th>10</th>\n",
              "      <th>11</th>\n",
              "      <th>12</th>\n",
              "      <th>13</th>\n",
              "    </tr>\n",
              "  </thead>\n",
              "  <tbody>\n",
              "    <tr>\n",
              "      <th>0</th>\n",
              "      <td>222</td>\n",
              "      <td>31.189189</td>\n",
              "      <td>40.342342</td>\n",
              "      <td>35.579087</td>\n",
              "      <td>8.883917</td>\n",
              "      <td>0.968325</td>\n",
              "      <td>-80.113673</td>\n",
              "      <td>222</td>\n",
              "      <td>1</td>\n",
              "      <td>16.812471</td>\n",
              "      <td>0.816176</td>\n",
              "      <td>0.578125</td>\n",
              "      <td>78.591</td>\n",
              "      <td>0</td>\n",
              "    </tr>\n",
              "    <tr>\n",
              "      <th>1</th>\n",
              "      <td>73</td>\n",
              "      <td>29.493151</td>\n",
              "      <td>271.397260</td>\n",
              "      <td>15.517202</td>\n",
              "      <td>6.407490</td>\n",
              "      <td>0.910764</td>\n",
              "      <td>76.042946</td>\n",
              "      <td>73</td>\n",
              "      <td>1</td>\n",
              "      <td>9.640876</td>\n",
              "      <td>0.858824</td>\n",
              "      <td>0.608333</td>\n",
              "      <td>39.217</td>\n",
              "      <td>0</td>\n",
              "    </tr>\n",
              "    <tr>\n",
              "      <th>2</th>\n",
              "      <td>256</td>\n",
              "      <td>58.816406</td>\n",
              "      <td>289.941406</td>\n",
              "      <td>37.226013</td>\n",
              "      <td>9.863895</td>\n",
              "      <td>0.964256</td>\n",
              "      <td>85.324742</td>\n",
              "      <td>256</td>\n",
              "      <td>1</td>\n",
              "      <td>18.054067</td>\n",
              "      <td>0.752941</td>\n",
              "      <td>0.562637</td>\n",
              "      <td>89.111</td>\n",
              "      <td>0</td>\n",
              "    </tr>\n",
              "    <tr>\n",
              "      <th>3</th>\n",
              "      <td>126</td>\n",
              "      <td>71.023810</td>\n",
              "      <td>477.412698</td>\n",
              "      <td>13.112980</td>\n",
              "      <td>12.790672</td>\n",
              "      <td>0.220351</td>\n",
              "      <td>63.523477</td>\n",
              "      <td>126</td>\n",
              "      <td>1</td>\n",
              "      <td>12.666025</td>\n",
              "      <td>0.881119</td>\n",
              "      <td>0.646154</td>\n",
              "      <td>43.832</td>\n",
              "      <td>0</td>\n",
              "    </tr>\n",
              "    <tr>\n",
              "      <th>4</th>\n",
              "      <td>225</td>\n",
              "      <td>90.808889</td>\n",
              "      <td>541.946667</td>\n",
              "      <td>44.463110</td>\n",
              "      <td>7.858879</td>\n",
              "      <td>0.984256</td>\n",
              "      <td>-52.874983</td>\n",
              "      <td>225</td>\n",
              "      <td>1</td>\n",
              "      <td>16.925688</td>\n",
              "      <td>0.728155</td>\n",
              "      <td>0.252525</td>\n",
              "      <td>90.072</td>\n",
              "      <td>7</td>\n",
              "    </tr>\n",
              "    <tr>\n",
              "      <th>...</th>\n",
              "      <td>...</td>\n",
              "      <td>...</td>\n",
              "      <td>...</td>\n",
              "      <td>...</td>\n",
              "      <td>...</td>\n",
              "      <td>...</td>\n",
              "      <td>...</td>\n",
              "      <td>...</td>\n",
              "      <td>...</td>\n",
              "      <td>...</td>\n",
              "      <td>...</td>\n",
              "      <td>...</td>\n",
              "      <td>...</td>\n",
              "      <td>...</td>\n",
              "    </tr>\n",
              "    <tr>\n",
              "      <th>1212</th>\n",
              "      <td>216</td>\n",
              "      <td>738.527778</td>\n",
              "      <td>216.449074</td>\n",
              "      <td>38.229761</td>\n",
              "      <td>9.556174</td>\n",
              "      <td>0.968254</td>\n",
              "      <td>12.847813</td>\n",
              "      <td>216</td>\n",
              "      <td>1</td>\n",
              "      <td>16.583719</td>\n",
              "      <td>0.640950</td>\n",
              "      <td>0.397059</td>\n",
              "      <td>98.589</td>\n",
              "      <td>0</td>\n",
              "    </tr>\n",
              "    <tr>\n",
              "      <th>1213</th>\n",
              "      <td>328</td>\n",
              "      <td>748.896341</td>\n",
              "      <td>47.664634</td>\n",
              "      <td>63.138991</td>\n",
              "      <td>9.101974</td>\n",
              "      <td>0.989555</td>\n",
              "      <td>57.919494</td>\n",
              "      <td>328</td>\n",
              "      <td>1</td>\n",
              "      <td>20.435816</td>\n",
              "      <td>0.607407</td>\n",
              "      <td>0.205257</td>\n",
              "      <td>131.431</td>\n",
              "      <td>8</td>\n",
              "    </tr>\n",
              "    <tr>\n",
              "      <th>1214</th>\n",
              "      <td>97</td>\n",
              "      <td>761.690722</td>\n",
              "      <td>207.288660</td>\n",
              "      <td>22.751513</td>\n",
              "      <td>8.230351</td>\n",
              "      <td>0.932275</td>\n",
              "      <td>-24.674618</td>\n",
              "      <td>97</td>\n",
              "      <td>1</td>\n",
              "      <td>11.113246</td>\n",
              "      <td>0.591463</td>\n",
              "      <td>0.384921</td>\n",
              "      <td>67.427</td>\n",
              "      <td>0</td>\n",
              "    </tr>\n",
              "    <tr>\n",
              "      <th>1215</th>\n",
              "      <td>223</td>\n",
              "      <td>770.654708</td>\n",
              "      <td>235.502242</td>\n",
              "      <td>53.491654</td>\n",
              "      <td>8.643053</td>\n",
              "      <td>0.986860</td>\n",
              "      <td>73.244715</td>\n",
              "      <td>223</td>\n",
              "      <td>1</td>\n",
              "      <td>16.850294</td>\n",
              "      <td>0.557500</td>\n",
              "      <td>0.252834</td>\n",
              "      <td>112.656</td>\n",
              "      <td>0</td>\n",
              "    </tr>\n",
              "    <tr>\n",
              "      <th>1216</th>\n",
              "      <td>87</td>\n",
              "      <td>764.954023</td>\n",
              "      <td>265.655172</td>\n",
              "      <td>13.459738</td>\n",
              "      <td>8.521929</td>\n",
              "      <td>0.774035</td>\n",
              "      <td>18.595633</td>\n",
              "      <td>87</td>\n",
              "      <td>1</td>\n",
              "      <td>10.524820</td>\n",
              "      <td>0.956044</td>\n",
              "      <td>0.743590</td>\n",
              "      <td>32.295</td>\n",
              "      <td>0</td>\n",
              "    </tr>\n",
              "  </tbody>\n",
              "</table>\n",
              "<p>1217 rows × 14 columns</p>\n",
              "</div>\n",
              "    <div class=\"colab-df-buttons\">\n",
              "\n",
              "  <div class=\"colab-df-container\">\n",
              "    <button class=\"colab-df-convert\" onclick=\"convertToInteractive('df-19da74c0-81e2-4f7b-a74f-244facadf8c8')\"\n",
              "            title=\"Convert this dataframe to an interactive table.\"\n",
              "            style=\"display:none;\">\n",
              "\n",
              "  <svg xmlns=\"http://www.w3.org/2000/svg\" height=\"24px\" viewBox=\"0 -960 960 960\">\n",
              "    <path d=\"M120-120v-720h720v720H120Zm60-500h600v-160H180v160Zm220 220h160v-160H400v160Zm0 220h160v-160H400v160ZM180-400h160v-160H180v160Zm440 0h160v-160H620v160ZM180-180h160v-160H180v160Zm440 0h160v-160H620v160Z\"/>\n",
              "  </svg>\n",
              "    </button>\n",
              "\n",
              "  <style>\n",
              "    .colab-df-container {\n",
              "      display:flex;\n",
              "      gap: 12px;\n",
              "    }\n",
              "\n",
              "    .colab-df-convert {\n",
              "      background-color: #E8F0FE;\n",
              "      border: none;\n",
              "      border-radius: 50%;\n",
              "      cursor: pointer;\n",
              "      display: none;\n",
              "      fill: #1967D2;\n",
              "      height: 32px;\n",
              "      padding: 0 0 0 0;\n",
              "      width: 32px;\n",
              "    }\n",
              "\n",
              "    .colab-df-convert:hover {\n",
              "      background-color: #E2EBFA;\n",
              "      box-shadow: 0px 1px 2px rgba(60, 64, 67, 0.3), 0px 1px 3px 1px rgba(60, 64, 67, 0.15);\n",
              "      fill: #174EA6;\n",
              "    }\n",
              "\n",
              "    .colab-df-buttons div {\n",
              "      margin-bottom: 4px;\n",
              "    }\n",
              "\n",
              "    [theme=dark] .colab-df-convert {\n",
              "      background-color: #3B4455;\n",
              "      fill: #D2E3FC;\n",
              "    }\n",
              "\n",
              "    [theme=dark] .colab-df-convert:hover {\n",
              "      background-color: #434B5C;\n",
              "      box-shadow: 0px 1px 3px 1px rgba(0, 0, 0, 0.15);\n",
              "      filter: drop-shadow(0px 1px 2px rgba(0, 0, 0, 0.3));\n",
              "      fill: #FFFFFF;\n",
              "    }\n",
              "  </style>\n",
              "\n",
              "    <script>\n",
              "      const buttonEl =\n",
              "        document.querySelector('#df-19da74c0-81e2-4f7b-a74f-244facadf8c8 button.colab-df-convert');\n",
              "      buttonEl.style.display =\n",
              "        google.colab.kernel.accessAllowed ? 'block' : 'none';\n",
              "\n",
              "      async function convertToInteractive(key) {\n",
              "        const element = document.querySelector('#df-19da74c0-81e2-4f7b-a74f-244facadf8c8');\n",
              "        const dataTable =\n",
              "          await google.colab.kernel.invokeFunction('convertToInteractive',\n",
              "                                                    [key], {});\n",
              "        if (!dataTable) return;\n",
              "\n",
              "        const docLinkHtml = 'Like what you see? Visit the ' +\n",
              "          '<a target=\"_blank\" href=https://colab.research.google.com/notebooks/data_table.ipynb>data table notebook</a>'\n",
              "          + ' to learn more about interactive tables.';\n",
              "        element.innerHTML = '';\n",
              "        dataTable['output_type'] = 'display_data';\n",
              "        await google.colab.output.renderOutput(dataTable, element);\n",
              "        const docLink = document.createElement('div');\n",
              "        docLink.innerHTML = docLinkHtml;\n",
              "        element.appendChild(docLink);\n",
              "      }\n",
              "    </script>\n",
              "  </div>\n",
              "\n",
              "\n",
              "    <div id=\"df-4fbf1c83-f70e-4bfd-81eb-7cc99dff93b0\">\n",
              "      <button class=\"colab-df-quickchart\" onclick=\"quickchart('df-4fbf1c83-f70e-4bfd-81eb-7cc99dff93b0')\"\n",
              "                title=\"Suggest charts\"\n",
              "                style=\"display:none;\">\n",
              "\n",
              "<svg xmlns=\"http://www.w3.org/2000/svg\" height=\"24px\"viewBox=\"0 0 24 24\"\n",
              "     width=\"24px\">\n",
              "    <g>\n",
              "        <path d=\"M19 3H5c-1.1 0-2 .9-2 2v14c0 1.1.9 2 2 2h14c1.1 0 2-.9 2-2V5c0-1.1-.9-2-2-2zM9 17H7v-7h2v7zm4 0h-2V7h2v10zm4 0h-2v-4h2v4z\"/>\n",
              "    </g>\n",
              "</svg>\n",
              "      </button>\n",
              "\n",
              "<style>\n",
              "  .colab-df-quickchart {\n",
              "      --bg-color: #E8F0FE;\n",
              "      --fill-color: #1967D2;\n",
              "      --hover-bg-color: #E2EBFA;\n",
              "      --hover-fill-color: #174EA6;\n",
              "      --disabled-fill-color: #AAA;\n",
              "      --disabled-bg-color: #DDD;\n",
              "  }\n",
              "\n",
              "  [theme=dark] .colab-df-quickchart {\n",
              "      --bg-color: #3B4455;\n",
              "      --fill-color: #D2E3FC;\n",
              "      --hover-bg-color: #434B5C;\n",
              "      --hover-fill-color: #FFFFFF;\n",
              "      --disabled-bg-color: #3B4455;\n",
              "      --disabled-fill-color: #666;\n",
              "  }\n",
              "\n",
              "  .colab-df-quickchart {\n",
              "    background-color: var(--bg-color);\n",
              "    border: none;\n",
              "    border-radius: 50%;\n",
              "    cursor: pointer;\n",
              "    display: none;\n",
              "    fill: var(--fill-color);\n",
              "    height: 32px;\n",
              "    padding: 0;\n",
              "    width: 32px;\n",
              "  }\n",
              "\n",
              "  .colab-df-quickchart:hover {\n",
              "    background-color: var(--hover-bg-color);\n",
              "    box-shadow: 0 1px 2px rgba(60, 64, 67, 0.3), 0 1px 3px 1px rgba(60, 64, 67, 0.15);\n",
              "    fill: var(--button-hover-fill-color);\n",
              "  }\n",
              "\n",
              "  .colab-df-quickchart-complete:disabled,\n",
              "  .colab-df-quickchart-complete:disabled:hover {\n",
              "    background-color: var(--disabled-bg-color);\n",
              "    fill: var(--disabled-fill-color);\n",
              "    box-shadow: none;\n",
              "  }\n",
              "\n",
              "  .colab-df-spinner {\n",
              "    border: 2px solid var(--fill-color);\n",
              "    border-color: transparent;\n",
              "    border-bottom-color: var(--fill-color);\n",
              "    animation:\n",
              "      spin 1s steps(1) infinite;\n",
              "  }\n",
              "\n",
              "  @keyframes spin {\n",
              "    0% {\n",
              "      border-color: transparent;\n",
              "      border-bottom-color: var(--fill-color);\n",
              "      border-left-color: var(--fill-color);\n",
              "    }\n",
              "    20% {\n",
              "      border-color: transparent;\n",
              "      border-left-color: var(--fill-color);\n",
              "      border-top-color: var(--fill-color);\n",
              "    }\n",
              "    30% {\n",
              "      border-color: transparent;\n",
              "      border-left-color: var(--fill-color);\n",
              "      border-top-color: var(--fill-color);\n",
              "      border-right-color: var(--fill-color);\n",
              "    }\n",
              "    40% {\n",
              "      border-color: transparent;\n",
              "      border-right-color: var(--fill-color);\n",
              "      border-top-color: var(--fill-color);\n",
              "    }\n",
              "    60% {\n",
              "      border-color: transparent;\n",
              "      border-right-color: var(--fill-color);\n",
              "    }\n",
              "    80% {\n",
              "      border-color: transparent;\n",
              "      border-right-color: var(--fill-color);\n",
              "      border-bottom-color: var(--fill-color);\n",
              "    }\n",
              "    90% {\n",
              "      border-color: transparent;\n",
              "      border-bottom-color: var(--fill-color);\n",
              "    }\n",
              "  }\n",
              "</style>\n",
              "\n",
              "      <script>\n",
              "        async function quickchart(key) {\n",
              "          const quickchartButtonEl =\n",
              "            document.querySelector('#' + key + ' button');\n",
              "          quickchartButtonEl.disabled = true;  // To prevent multiple clicks.\n",
              "          quickchartButtonEl.classList.add('colab-df-spinner');\n",
              "          try {\n",
              "            const charts = await google.colab.kernel.invokeFunction(\n",
              "                'suggestCharts', [key], {});\n",
              "          } catch (error) {\n",
              "            console.error('Error during call to suggestCharts:', error);\n",
              "          }\n",
              "          quickchartButtonEl.classList.remove('colab-df-spinner');\n",
              "          quickchartButtonEl.classList.add('colab-df-quickchart-complete');\n",
              "        }\n",
              "        (() => {\n",
              "          let quickchartButtonEl =\n",
              "            document.querySelector('#df-4fbf1c83-f70e-4bfd-81eb-7cc99dff93b0 button');\n",
              "          quickchartButtonEl.style.display =\n",
              "            google.colab.kernel.accessAllowed ? 'block' : 'none';\n",
              "        })();\n",
              "      </script>\n",
              "    </div>\n",
              "\n",
              "  <div id=\"id_e819c7ac-0950-42d1-b2c4-06a7a25457f4\">\n",
              "    <style>\n",
              "      .colab-df-generate {\n",
              "        background-color: #E8F0FE;\n",
              "        border: none;\n",
              "        border-radius: 50%;\n",
              "        cursor: pointer;\n",
              "        display: none;\n",
              "        fill: #1967D2;\n",
              "        height: 32px;\n",
              "        padding: 0 0 0 0;\n",
              "        width: 32px;\n",
              "      }\n",
              "\n",
              "      .colab-df-generate:hover {\n",
              "        background-color: #E2EBFA;\n",
              "        box-shadow: 0px 1px 2px rgba(60, 64, 67, 0.3), 0px 1px 3px 1px rgba(60, 64, 67, 0.15);\n",
              "        fill: #174EA6;\n",
              "      }\n",
              "\n",
              "      [theme=dark] .colab-df-generate {\n",
              "        background-color: #3B4455;\n",
              "        fill: #D2E3FC;\n",
              "      }\n",
              "\n",
              "      [theme=dark] .colab-df-generate:hover {\n",
              "        background-color: #434B5C;\n",
              "        box-shadow: 0px 1px 3px 1px rgba(0, 0, 0, 0.15);\n",
              "        filter: drop-shadow(0px 1px 2px rgba(0, 0, 0, 0.3));\n",
              "        fill: #FFFFFF;\n",
              "      }\n",
              "    </style>\n",
              "    <button class=\"colab-df-generate\" onclick=\"generateWithVariable('df')\"\n",
              "            title=\"Generate code using this dataframe.\"\n",
              "            style=\"display:none;\">\n",
              "\n",
              "  <svg xmlns=\"http://www.w3.org/2000/svg\" height=\"24px\"viewBox=\"0 0 24 24\"\n",
              "       width=\"24px\">\n",
              "    <path d=\"M7,19H8.4L18.45,9,17,7.55,7,17.6ZM5,21V16.75L18.45,3.32a2,2,0,0,1,2.83,0l1.4,1.43a1.91,1.91,0,0,1,.58,1.4,1.91,1.91,0,0,1-.58,1.4L9.25,21ZM18.45,9,17,7.55Zm-12,3A5.31,5.31,0,0,0,4.9,8.1,5.31,5.31,0,0,0,1,6.5,5.31,5.31,0,0,0,4.9,4.9,5.31,5.31,0,0,0,6.5,1,5.31,5.31,0,0,0,8.1,4.9,5.31,5.31,0,0,0,12,6.5,5.46,5.46,0,0,0,6.5,12Z\"/>\n",
              "  </svg>\n",
              "    </button>\n",
              "    <script>\n",
              "      (() => {\n",
              "      const buttonEl =\n",
              "        document.querySelector('#id_e819c7ac-0950-42d1-b2c4-06a7a25457f4 button.colab-df-generate');\n",
              "      buttonEl.style.display =\n",
              "        google.colab.kernel.accessAllowed ? 'block' : 'none';\n",
              "\n",
              "      buttonEl.onclick = () => {\n",
              "        google.colab.notebook.generateWithVariable('df');\n",
              "      }\n",
              "      })();\n",
              "    </script>\n",
              "  </div>\n",
              "\n",
              "    </div>\n",
              "  </div>\n"
            ],
            "application/vnd.google.colaboratory.intrinsic+json": {
              "type": "dataframe",
              "variable_name": "df",
              "summary": "{\n  \"name\": \"df\",\n  \"rows\": 1217,\n  \"fields\": [\n    {\n      \"column\": 0,\n      \"properties\": {\n        \"dtype\": \"number\",\n        \"std\": 135,\n        \"min\": 70,\n        \"max\": 1089,\n        \"num_unique_values\": 363,\n        \"samples\": [\n          274,\n          314,\n          195\n        ],\n        \"semantic_type\": \"\",\n        \"description\": \"\"\n      }\n    },\n    {\n      \"column\": 1,\n      \"properties\": {\n        \"dtype\": \"number\",\n        \"std\": 215.5639203994453,\n        \"min\": 28.17647059,\n        \"max\": 773.9196429,\n        \"num_unique_values\": 1186,\n        \"samples\": [\n          772.6774194,\n          665.9603524,\n          748.8963415\n        ],\n        \"semantic_type\": \"\",\n        \"description\": \"\"\n      }\n    },\n    {\n      \"column\": 2,\n      \"properties\": {\n        \"dtype\": \"number\",\n        \"std\": 141.5928179284898,\n        \"min\": 27.87012987,\n        \"max\": 575.3402062,\n        \"num_unique_values\": 1186,\n        \"samples\": [\n          346.4331797,\n          280.8105727,\n          47.66463415\n        ],\n        \"semantic_type\": \"\",\n        \"description\": \"\"\n      }\n    },\n    {\n      \"column\": 3,\n      \"properties\": {\n        \"dtype\": \"number\",\n        \"std\": 19.152143275259693,\n        \"min\": 10.28243735,\n        \"max\": 155.3301226,\n        \"num_unique_values\": 1186,\n        \"samples\": [\n          31.68309077,\n          40.48326725,\n          63.13899122\n        ],\n        \"semantic_type\": \"\",\n        \"description\": \"\"\n      }\n    },\n    {\n      \"column\": 4,\n      \"properties\": {\n        \"dtype\": \"number\",\n        \"std\": 3.6349694938508357,\n        \"min\": 3.08096257,\n        \"max\": 43.4871109,\n        \"num_unique_values\": 1186,\n        \"samples\": [\n          9.587173613,\n          9.687666347,\n          9.101974301\n        ],\n        \"semantic_type\": \"\",\n        \"description\": \"\"\n      }\n    },\n    {\n      \"column\": 5,\n      \"properties\": {\n        \"dtype\": \"number\",\n        \"std\": 0.110941719262179,\n        \"min\": 0.218073549,\n        \"max\": 0.998458722,\n        \"num_unique_values\": 1186,\n        \"samples\": [\n          0.953118941,\n          0.970945553,\n          0.989554721\n        ],\n        \"semantic_type\": \"\",\n        \"description\": \"\"\n      }\n    },\n    {\n      \"column\": 6,\n      \"properties\": {\n        \"dtype\": \"number\",\n        \"std\": 50.589439987988804,\n        \"min\": -89.53133504,\n        \"max\": 89.88112006,\n        \"num_unique_values\": 1186,\n        \"samples\": [\n          85.53606616,\n          -85.31796968,\n          57.91949369\n        ],\n        \"semantic_type\": \"\",\n        \"description\": \"\"\n      }\n    },\n    {\n      \"column\": 7,\n      \"properties\": {\n        \"dtype\": \"number\",\n        \"std\": 142,\n        \"min\": 70,\n        \"max\": 1159,\n        \"num_unique_values\": 366,\n        \"samples\": [\n          274,\n          143,\n          195\n        ],\n        \"semantic_type\": \"\",\n        \"description\": \"\"\n      }\n    },\n    {\n      \"column\": 8,\n      \"properties\": {\n        \"dtype\": \"number\",\n        \"std\": 2,\n        \"min\": -26,\n        \"max\": 1,\n        \"num_unique_values\": 20,\n        \"samples\": [\n          1,\n          -18,\n          -26\n        ],\n        \"semantic_type\": \"\",\n        \"description\": \"\"\n      }\n    },\n    {\n      \"column\": 9,\n      \"properties\": {\n        \"dtype\": \"number\",\n        \"std\": 4.623929645832601,\n        \"min\": 9.440697439,\n        \"max\": 37.23651251,\n        \"num_unique_values\": 363,\n        \"samples\": [\n          18.6779987,\n          19.99492978,\n          15.75695755\n        ],\n        \"semantic_type\": \"\",\n        \"description\": \"\"\n      }\n    },\n    {\n      \"column\": 10,\n      \"properties\": {\n        \"dtype\": \"number\",\n        \"std\": 0.11780212142518687,\n        \"min\": 0.261048586,\n        \"max\": 1.0,\n        \"num_unique_values\": 1067,\n        \"samples\": [\n          0.689393939,\n          0.753846154,\n          0.705627706\n        ],\n        \"semantic_type\": \"\",\n        \"description\": \"\"\n      }\n    },\n    {\n      \"column\": 11,\n      \"properties\": {\n        \"dtype\": \"number\",\n        \"std\": 0.158341245542501,\n        \"min\": 0.114481762,\n        \"max\": 0.905882353,\n        \"num_unique_values\": 1057,\n        \"samples\": [\n          0.234101382,\n          0.529761905,\n          0.712121212\n        ],\n        \"semantic_type\": \"\",\n        \"description\": \"\"\n      }\n    },\n    {\n      \"column\": 12,\n      \"properties\": {\n        \"dtype\": \"number\",\n        \"std\": 48.79854826344192,\n        \"min\": 28.193,\n        \"max\": 493.749,\n        \"num_unique_values\": 1105,\n        \"samples\": [\n          69.66,\n          45.817,\n          44.469\n        ],\n        \"semantic_type\": \"\",\n        \"description\": \"\"\n      }\n    },\n    {\n      \"column\": 13,\n      \"properties\": {\n        \"dtype\": \"number\",\n        \"std\": 2,\n        \"min\": 0,\n        \"max\": 10,\n        \"num_unique_values\": 11,\n        \"samples\": [\n          8,\n          0,\n          1\n        ],\n        \"semantic_type\": \"\",\n        \"description\": \"\"\n      }\n    }\n  ]\n}"
            }
          },
          "metadata": {},
          "execution_count": 6
        }
      ]
    },
    {
      "cell_type": "markdown",
      "source": [
        "#### Train and Test Dataset Split"
      ],
      "metadata": {
        "id": "0sAhbBfCkzis"
      }
    },
    {
      "cell_type": "code",
      "source": [
        "# Split dataset into training and testing portion\n",
        "X_train, X_test, y_train, y_test = train_test_split(X, y, test_size=0.20, random_state=1234)\n",
        "np.random.seed(100)"
      ],
      "metadata": {
        "id": "mKg2y9lCbHkV"
      },
      "execution_count": 10,
      "outputs": []
    },
    {
      "cell_type": "markdown",
      "source": [
        "As the last layer requires 2 outputs, I need to apply one-hot encode to y_train and y_test. Hence, the model outputs two probabilities per sample, one for each class:[P(class 0), P(class 1)], where the two values sum to 1\n",
        "\n"
      ],
      "metadata": {
        "id": "WzB8ItdW0Cvv"
      }
    },
    {
      "cell_type": "code",
      "source": [
        "# Categorize y\n",
        "y_train_cat = to_categorical(y_train, num_classes=2)\n",
        "y_test_cat = to_categorical(y_test, num_classes=2)"
      ],
      "metadata": {
        "id": "8-G2LzW8bVNj"
      },
      "execution_count": 11,
      "outputs": []
    },
    {
      "cell_type": "markdown",
      "source": [
        "#### Model Training"
      ],
      "metadata": {
        "id": "NlybMoKS0mcJ"
      }
    },
    {
      "cell_type": "code",
      "source": [
        "# Compile the model with categorical cross-entropy\n",
        "adam = Adam(learning_rate=0.1)\n",
        "model.compile(loss='binary_crossentropy', optimizer=adam, metrics=['accuracy'])\n",
        "\n",
        "# Train the model\n",
        "model.fit(X_train, y_train_cat, epochs=50, batch_size=4, verbose=1,validation_data=(X_test, y_test_cat))"
      ],
      "metadata": {
        "colab": {
          "base_uri": "https://localhost:8080/"
        },
        "id": "yTjTrEydZjaJ",
        "outputId": "2923ff90-5983-4e7d-b2b8-3b19a9bb49f8"
      },
      "execution_count": 41,
      "outputs": [
        {
          "output_type": "stream",
          "name": "stdout",
          "text": [
            "Epoch 1/50\n",
            "\u001b[1m244/244\u001b[0m \u001b[32m━━━━━━━━━━━━━━━━━━━━\u001b[0m\u001b[37m\u001b[0m \u001b[1m4s\u001b[0m 6ms/step - accuracy: 0.9143 - loss: 0.1978 - val_accuracy: 0.9180 - val_loss: 0.2005\n",
            "Epoch 2/50\n",
            "\u001b[1m244/244\u001b[0m \u001b[32m━━━━━━━━━━━━━━━━━━━━\u001b[0m\u001b[37m\u001b[0m \u001b[1m2s\u001b[0m 3ms/step - accuracy: 0.9114 - loss: 0.2010 - val_accuracy: 0.9098 - val_loss: 0.2573\n",
            "Epoch 3/50\n",
            "\u001b[1m244/244\u001b[0m \u001b[32m━━━━━━━━━━━━━━━━━━━━\u001b[0m\u001b[37m\u001b[0m \u001b[1m1s\u001b[0m 3ms/step - accuracy: 0.9206 - loss: 0.2057 - val_accuracy: 0.9262 - val_loss: 0.1895\n",
            "Epoch 4/50\n",
            "\u001b[1m244/244\u001b[0m \u001b[32m━━━━━━━━━━━━━━━━━━━━\u001b[0m\u001b[37m\u001b[0m \u001b[1m1s\u001b[0m 3ms/step - accuracy: 0.8940 - loss: 0.2293 - val_accuracy: 0.9139 - val_loss: 0.2145\n",
            "Epoch 5/50\n",
            "\u001b[1m244/244\u001b[0m \u001b[32m━━━━━━━━━━━━━━━━━━━━\u001b[0m\u001b[37m\u001b[0m \u001b[1m1s\u001b[0m 3ms/step - accuracy: 0.9282 - loss: 0.1946 - val_accuracy: 0.8852 - val_loss: 0.2143\n",
            "Epoch 6/50\n",
            "\u001b[1m244/244\u001b[0m \u001b[32m━━━━━━━━━━━━━━━━━━━━\u001b[0m\u001b[37m\u001b[0m \u001b[1m1s\u001b[0m 3ms/step - accuracy: 0.8798 - loss: 0.2265 - val_accuracy: 0.9221 - val_loss: 0.1943\n",
            "Epoch 7/50\n",
            "\u001b[1m244/244\u001b[0m \u001b[32m━━━━━━━━━━━━━━━━━━━━\u001b[0m\u001b[37m\u001b[0m \u001b[1m1s\u001b[0m 3ms/step - accuracy: 0.9113 - loss: 0.2229 - val_accuracy: 0.9139 - val_loss: 0.2004\n",
            "Epoch 8/50\n",
            "\u001b[1m244/244\u001b[0m \u001b[32m━━━━━━━━━━━━━━━━━━━━\u001b[0m\u001b[37m\u001b[0m \u001b[1m2s\u001b[0m 4ms/step - accuracy: 0.8928 - loss: 0.2087 - val_accuracy: 0.9016 - val_loss: 0.2296\n",
            "Epoch 9/50\n",
            "\u001b[1m244/244\u001b[0m \u001b[32m━━━━━━━━━━━━━━━━━━━━\u001b[0m\u001b[37m\u001b[0m \u001b[1m1s\u001b[0m 4ms/step - accuracy: 0.9046 - loss: 0.2061 - val_accuracy: 0.9139 - val_loss: 0.2007\n",
            "Epoch 10/50\n",
            "\u001b[1m244/244\u001b[0m \u001b[32m━━━━━━━━━━━━━━━━━━━━\u001b[0m\u001b[37m\u001b[0m \u001b[1m1s\u001b[0m 3ms/step - accuracy: 0.9031 - loss: 0.2021 - val_accuracy: 0.9098 - val_loss: 0.2055\n",
            "Epoch 11/50\n",
            "\u001b[1m244/244\u001b[0m \u001b[32m━━━━━━━━━━━━━━━━━━━━\u001b[0m\u001b[37m\u001b[0m \u001b[1m1s\u001b[0m 3ms/step - accuracy: 0.9065 - loss: 0.1956 - val_accuracy: 0.8934 - val_loss: 0.1985\n",
            "Epoch 12/50\n",
            "\u001b[1m244/244\u001b[0m \u001b[32m━━━━━━━━━━━━━━━━━━━━\u001b[0m\u001b[37m\u001b[0m \u001b[1m1s\u001b[0m 3ms/step - accuracy: 0.9313 - loss: 0.1595 - val_accuracy: 0.9180 - val_loss: 0.2080\n",
            "Epoch 13/50\n",
            "\u001b[1m244/244\u001b[0m \u001b[32m━━━━━━━━━━━━━━━━━━━━\u001b[0m\u001b[37m\u001b[0m \u001b[1m1s\u001b[0m 3ms/step - accuracy: 0.9274 - loss: 0.1963 - val_accuracy: 0.9180 - val_loss: 0.1912\n",
            "Epoch 14/50\n",
            "\u001b[1m244/244\u001b[0m \u001b[32m━━━━━━━━━━━━━━━━━━━━\u001b[0m\u001b[37m\u001b[0m \u001b[1m1s\u001b[0m 3ms/step - accuracy: 0.9109 - loss: 0.2149 - val_accuracy: 0.9098 - val_loss: 0.2062\n",
            "Epoch 15/50\n",
            "\u001b[1m244/244\u001b[0m \u001b[32m━━━━━━━━━━━━━━━━━━━━\u001b[0m\u001b[37m\u001b[0m \u001b[1m1s\u001b[0m 3ms/step - accuracy: 0.9102 - loss: 0.2122 - val_accuracy: 0.9221 - val_loss: 0.1907\n",
            "Epoch 16/50\n",
            "\u001b[1m244/244\u001b[0m \u001b[32m━━━━━━━━━━━━━━━━━━━━\u001b[0m\u001b[37m\u001b[0m \u001b[1m1s\u001b[0m 3ms/step - accuracy: 0.9283 - loss: 0.1936 - val_accuracy: 0.9016 - val_loss: 0.2137\n",
            "Epoch 17/50\n",
            "\u001b[1m244/244\u001b[0m \u001b[32m━━━━━━━━━━━━━━━━━━━━\u001b[0m\u001b[37m\u001b[0m \u001b[1m1s\u001b[0m 3ms/step - accuracy: 0.9113 - loss: 0.2108 - val_accuracy: 0.9221 - val_loss: 0.1930\n",
            "Epoch 18/50\n",
            "\u001b[1m244/244\u001b[0m \u001b[32m━━━━━━━━━━━━━━━━━━━━\u001b[0m\u001b[37m\u001b[0m \u001b[1m1s\u001b[0m 3ms/step - accuracy: 0.9272 - loss: 0.1841 - val_accuracy: 0.9057 - val_loss: 0.2114\n",
            "Epoch 19/50\n",
            "\u001b[1m244/244\u001b[0m \u001b[32m━━━━━━━━━━━━━━━━━━━━\u001b[0m\u001b[37m\u001b[0m \u001b[1m1s\u001b[0m 3ms/step - accuracy: 0.9210 - loss: 0.1936 - val_accuracy: 0.9139 - val_loss: 0.2183\n",
            "Epoch 20/50\n",
            "\u001b[1m244/244\u001b[0m \u001b[32m━━━━━━━━━━━━━━━━━━━━\u001b[0m\u001b[37m\u001b[0m \u001b[1m2s\u001b[0m 5ms/step - accuracy: 0.9301 - loss: 0.1892 - val_accuracy: 0.9016 - val_loss: 0.2269\n",
            "Epoch 21/50\n",
            "\u001b[1m244/244\u001b[0m \u001b[32m━━━━━━━━━━━━━━━━━━━━\u001b[0m\u001b[37m\u001b[0m \u001b[1m1s\u001b[0m 3ms/step - accuracy: 0.9005 - loss: 0.2146 - val_accuracy: 0.8811 - val_loss: 0.2503\n",
            "Epoch 22/50\n",
            "\u001b[1m244/244\u001b[0m \u001b[32m━━━━━━━━━━━━━━━━━━━━\u001b[0m\u001b[37m\u001b[0m \u001b[1m1s\u001b[0m 3ms/step - accuracy: 0.8931 - loss: 0.2419 - val_accuracy: 0.8934 - val_loss: 0.2219\n",
            "Epoch 23/50\n",
            "\u001b[1m244/244\u001b[0m \u001b[32m━━━━━━━━━━━━━━━━━━━━\u001b[0m\u001b[37m\u001b[0m \u001b[1m1s\u001b[0m 3ms/step - accuracy: 0.9394 - loss: 0.1678 - val_accuracy: 0.9098 - val_loss: 0.2088\n",
            "Epoch 24/50\n",
            "\u001b[1m244/244\u001b[0m \u001b[32m━━━━━━━━━━━━━━━━━━━━\u001b[0m\u001b[37m\u001b[0m \u001b[1m1s\u001b[0m 3ms/step - accuracy: 0.9148 - loss: 0.2029 - val_accuracy: 0.9139 - val_loss: 0.2003\n",
            "Epoch 25/50\n",
            "\u001b[1m244/244\u001b[0m \u001b[32m━━━━━━━━━━━━━━━━━━━━\u001b[0m\u001b[37m\u001b[0m \u001b[1m1s\u001b[0m 3ms/step - accuracy: 0.9380 - loss: 0.1666 - val_accuracy: 0.9180 - val_loss: 0.1923\n",
            "Epoch 26/50\n",
            "\u001b[1m244/244\u001b[0m \u001b[32m━━━━━━━━━━━━━━━━━━━━\u001b[0m\u001b[37m\u001b[0m \u001b[1m1s\u001b[0m 3ms/step - accuracy: 0.9305 - loss: 0.1812 - val_accuracy: 0.9139 - val_loss: 0.2116\n",
            "Epoch 27/50\n",
            "\u001b[1m244/244\u001b[0m \u001b[32m━━━━━━━━━━━━━━━━━━━━\u001b[0m\u001b[37m\u001b[0m \u001b[1m1s\u001b[0m 3ms/step - accuracy: 0.9149 - loss: 0.2135 - val_accuracy: 0.9180 - val_loss: 0.2035\n",
            "Epoch 28/50\n",
            "\u001b[1m244/244\u001b[0m \u001b[32m━━━━━━━━━━━━━━━━━━━━\u001b[0m\u001b[37m\u001b[0m \u001b[1m1s\u001b[0m 3ms/step - accuracy: 0.9077 - loss: 0.2226 - val_accuracy: 0.9180 - val_loss: 0.1963\n",
            "Epoch 29/50\n",
            "\u001b[1m244/244\u001b[0m \u001b[32m━━━━━━━━━━━━━━━━━━━━\u001b[0m\u001b[37m\u001b[0m \u001b[1m1s\u001b[0m 3ms/step - accuracy: 0.9168 - loss: 0.2156 - val_accuracy: 0.9016 - val_loss: 0.2055\n",
            "Epoch 30/50\n",
            "\u001b[1m244/244\u001b[0m \u001b[32m━━━━━━━━━━━━━━━━━━━━\u001b[0m\u001b[37m\u001b[0m \u001b[1m1s\u001b[0m 3ms/step - accuracy: 0.9122 - loss: 0.2007 - val_accuracy: 0.9098 - val_loss: 0.1911\n",
            "Epoch 31/50\n",
            "\u001b[1m244/244\u001b[0m \u001b[32m━━━━━━━━━━━━━━━━━━━━\u001b[0m\u001b[37m\u001b[0m \u001b[1m1s\u001b[0m 4ms/step - accuracy: 0.9296 - loss: 0.1888 - val_accuracy: 0.8566 - val_loss: 0.2509\n",
            "Epoch 32/50\n",
            "\u001b[1m244/244\u001b[0m \u001b[32m━━━━━━━━━━━━━━━━━━━━\u001b[0m\u001b[37m\u001b[0m \u001b[1m1s\u001b[0m 4ms/step - accuracy: 0.8830 - loss: 0.2413 - val_accuracy: 0.9139 - val_loss: 0.2142\n",
            "Epoch 33/50\n",
            "\u001b[1m244/244\u001b[0m \u001b[32m━━━━━━━━━━━━━━━━━━━━\u001b[0m\u001b[37m\u001b[0m \u001b[1m1s\u001b[0m 3ms/step - accuracy: 0.9009 - loss: 0.2147 - val_accuracy: 0.9221 - val_loss: 0.2017\n",
            "Epoch 34/50\n",
            "\u001b[1m244/244\u001b[0m \u001b[32m━━━━━━━━━━━━━━━━━━━━\u001b[0m\u001b[37m\u001b[0m \u001b[1m1s\u001b[0m 3ms/step - accuracy: 0.9238 - loss: 0.1988 - val_accuracy: 0.9098 - val_loss: 0.2149\n",
            "Epoch 35/50\n",
            "\u001b[1m244/244\u001b[0m \u001b[32m━━━━━━━━━━━━━━━━━━━━\u001b[0m\u001b[37m\u001b[0m \u001b[1m1s\u001b[0m 3ms/step - accuracy: 0.9276 - loss: 0.2034 - val_accuracy: 0.9139 - val_loss: 0.2081\n",
            "Epoch 36/50\n",
            "\u001b[1m244/244\u001b[0m \u001b[32m━━━━━━━━━━━━━━━━━━━━\u001b[0m\u001b[37m\u001b[0m \u001b[1m1s\u001b[0m 3ms/step - accuracy: 0.9106 - loss: 0.1978 - val_accuracy: 0.8934 - val_loss: 0.2310\n",
            "Epoch 37/50\n",
            "\u001b[1m244/244\u001b[0m \u001b[32m━━━━━━━━━━━━━━━━━━━━\u001b[0m\u001b[37m\u001b[0m \u001b[1m1s\u001b[0m 3ms/step - accuracy: 0.9187 - loss: 0.1957 - val_accuracy: 0.8975 - val_loss: 0.2247\n",
            "Epoch 38/50\n",
            "\u001b[1m244/244\u001b[0m \u001b[32m━━━━━━━━━━━━━━━━━━━━\u001b[0m\u001b[37m\u001b[0m \u001b[1m1s\u001b[0m 3ms/step - accuracy: 0.9062 - loss: 0.2000 - val_accuracy: 0.9139 - val_loss: 0.2192\n",
            "Epoch 39/50\n",
            "\u001b[1m244/244\u001b[0m \u001b[32m━━━━━━━━━━━━━━━━━━━━\u001b[0m\u001b[37m\u001b[0m \u001b[1m1s\u001b[0m 3ms/step - accuracy: 0.9239 - loss: 0.1796 - val_accuracy: 0.9180 - val_loss: 0.2112\n",
            "Epoch 40/50\n",
            "\u001b[1m244/244\u001b[0m \u001b[32m━━━━━━━━━━━━━━━━━━━━\u001b[0m\u001b[37m\u001b[0m \u001b[1m1s\u001b[0m 3ms/step - accuracy: 0.9233 - loss: 0.2098 - val_accuracy: 0.9016 - val_loss: 0.2399\n",
            "Epoch 41/50\n",
            "\u001b[1m244/244\u001b[0m \u001b[32m━━━━━━━━━━━━━━━━━━━━\u001b[0m\u001b[37m\u001b[0m \u001b[1m1s\u001b[0m 3ms/step - accuracy: 0.9273 - loss: 0.1967 - val_accuracy: 0.8811 - val_loss: 0.2403\n",
            "Epoch 42/50\n",
            "\u001b[1m244/244\u001b[0m \u001b[32m━━━━━━━━━━━━━━━━━━━━\u001b[0m\u001b[37m\u001b[0m \u001b[1m1s\u001b[0m 3ms/step - accuracy: 0.9211 - loss: 0.2114 - val_accuracy: 0.9057 - val_loss: 0.2376\n",
            "Epoch 43/50\n",
            "\u001b[1m244/244\u001b[0m \u001b[32m━━━━━━━━━━━━━━━━━━━━\u001b[0m\u001b[37m\u001b[0m \u001b[1m1s\u001b[0m 5ms/step - accuracy: 0.9281 - loss: 0.2082 - val_accuracy: 0.8975 - val_loss: 0.2731\n",
            "Epoch 44/50\n",
            "\u001b[1m244/244\u001b[0m \u001b[32m━━━━━━━━━━━━━━━━━━━━\u001b[0m\u001b[37m\u001b[0m \u001b[1m1s\u001b[0m 4ms/step - accuracy: 0.9043 - loss: 0.2177 - val_accuracy: 0.8852 - val_loss: 0.2256\n",
            "Epoch 45/50\n",
            "\u001b[1m244/244\u001b[0m \u001b[32m━━━━━━━━━━━━━━━━━━━━\u001b[0m\u001b[37m\u001b[0m \u001b[1m1s\u001b[0m 3ms/step - accuracy: 0.8920 - loss: 0.2163 - val_accuracy: 0.9180 - val_loss: 0.2104\n",
            "Epoch 46/50\n",
            "\u001b[1m244/244\u001b[0m \u001b[32m━━━━━━━━━━━━━━━━━━━━\u001b[0m\u001b[37m\u001b[0m \u001b[1m1s\u001b[0m 3ms/step - accuracy: 0.9191 - loss: 0.2230 - val_accuracy: 0.9098 - val_loss: 0.2493\n",
            "Epoch 47/50\n",
            "\u001b[1m244/244\u001b[0m \u001b[32m━━━━━━━━━━━━━━━━━━━━\u001b[0m\u001b[37m\u001b[0m \u001b[1m1s\u001b[0m 3ms/step - accuracy: 0.9030 - loss: 0.2066 - val_accuracy: 0.9262 - val_loss: 0.2199\n",
            "Epoch 48/50\n",
            "\u001b[1m244/244\u001b[0m \u001b[32m━━━━━━━━━━━━━━━━━━━━\u001b[0m\u001b[37m\u001b[0m \u001b[1m1s\u001b[0m 3ms/step - accuracy: 0.9303 - loss: 0.1805 - val_accuracy: 0.8975 - val_loss: 0.2197\n",
            "Epoch 49/50\n",
            "\u001b[1m244/244\u001b[0m \u001b[32m━━━━━━━━━━━━━━━━━━━━\u001b[0m\u001b[37m\u001b[0m \u001b[1m1s\u001b[0m 3ms/step - accuracy: 0.9098 - loss: 0.2252 - val_accuracy: 0.9057 - val_loss: 0.2351\n",
            "Epoch 50/50\n",
            "\u001b[1m244/244\u001b[0m \u001b[32m━━━━━━━━━━━━━━━━━━━━\u001b[0m\u001b[37m\u001b[0m \u001b[1m1s\u001b[0m 3ms/step - accuracy: 0.9132 - loss: 0.2382 - val_accuracy: 0.8975 - val_loss: 0.2293\n"
          ]
        },
        {
          "output_type": "execute_result",
          "data": {
            "text/plain": [
              "<keras.src.callbacks.history.History at 0x78439aee43d0>"
            ]
          },
          "metadata": {},
          "execution_count": 41
        }
      ]
    },
    {
      "cell_type": "markdown",
      "source": [
        "### Result Analysis:\n",
        "This section will focus on testing dataset. The same steps can be applied for training dataset if interested"
      ],
      "metadata": {
        "id": "nbFEhN7lZQqG"
      }
    },
    {
      "cell_type": "markdown",
      "source": [
        "#### Confusion Matrix of Testing Dataset"
      ],
      "metadata": {
        "id": "-68g-XvT017s"
      }
    },
    {
      "cell_type": "code",
      "source": [
        "# Use model to evaluate train data\n",
        "y_score_train = model.predict(X_train,verbose = 0) #array probablilities of 0 and 1\n",
        "yhat_train = y_score_train.argmax(axis=-1)\n",
        "print(\"Confusion matrix (Training Data): \\n \\n\", confusion_matrix(y_train, yhat_train))\n",
        "\n",
        "\n",
        "y_score_test = model.predict(X_test, verbose = 0)\n",
        "yhat_test = y_score_test.argmax(axis=-1)\n",
        "print(\"Confusion matrix (Test Data): \\n \\n\", confusion_matrix(y_test, yhat_test))"
      ],
      "metadata": {
        "colab": {
          "base_uri": "https://localhost:8080/"
        },
        "id": "Q6V1Sl5vaEig",
        "outputId": "f319ba1d-6932-4acb-f821-1414aebcda3a"
      },
      "execution_count": 13,
      "outputs": [
        {
          "output_type": "stream",
          "name": "stdout",
          "text": [
            "Confusion matrix (Training Data): \n",
            " \n",
            " [[768  40]\n",
            " [ 30 135]]\n",
            "Confusion matrix (Test Data): \n",
            " \n",
            " [[195  14]\n",
            " [  8  27]]\n"
          ]
        }
      ]
    },
    {
      "cell_type": "code",
      "source": [
        "confusion_matrix = pd.crosstab(y_test[:,0], yhat_test,rownames=['Actual'], colnames=['Predicted'])\n",
        "sn.heatmap(confusion_matrix, annot=True)\n",
        "plt.title(\"Confusion Matrix of Testing Dataset\")\n",
        "plt.xlabel(\"Predicted\")\n",
        "plt.ylabel(\"Actual\")\n",
        "plt.show()\n",
        "\n",
        "Stats = classification_report(y_test,yhat_test)\n",
        "print(Stats)"
      ],
      "metadata": {
        "colab": {
          "base_uri": "https://localhost:8080/",
          "height": 628
        },
        "id": "JbHf3kKLUtFi",
        "outputId": "cf2ea72d-52e3-4ccb-93e2-71bbd915a8ad"
      },
      "execution_count": 44,
      "outputs": [
        {
          "output_type": "display_data",
          "data": {
            "text/plain": [
              "<Figure size 640x480 with 2 Axes>"
            ],
            "image/png": "[encoded data removed]"
          },
          "metadata": {}
        },
        {
          "output_type": "stream",
          "name": "stdout",
          "text": [
            "              precision    recall  f1-score   support\n",
            "\n",
            "           0       0.96      0.93      0.95       209\n",
            "           1       0.66      0.77      0.71        35\n",
            "\n",
            "    accuracy                           0.91       244\n",
            "   macro avg       0.81      0.85      0.83       244\n",
            "weighted avg       0.92      0.91      0.91       244\n",
            "\n"
          ]
        }
      ]
    },
    {
      "cell_type": "markdown",
      "source": [
        "#### Accuracy of Testing Dataset"
      ],
      "metadata": {
        "id": "3L2WgsWn1kP-"
      }
    },
    {
      "cell_type": "code",
      "source": [
        "print(\"Model accuracy score of training dataset is \", accuracy_score(y_train, yhat_train))\n",
        "print(\"Model accuracy score of testing dataset is \", accuracy_score(y_test, yhat_test))"
      ],
      "metadata": {
        "id": "9KMGm9bObD5R",
        "colab": {
          "base_uri": "https://localhost:8080/"
        },
        "outputId": "07cbe4e5-a661-4088-de45-ca739044737b"
      },
      "execution_count": 45,
      "outputs": [
        {
          "output_type": "stream",
          "name": "stdout",
          "text": [
            "Model accuracy score of training dataset is  0.9280575539568345\n",
            "Model accuracy score of testing dataset is  0.9098360655737705\n"
          ]
        }
      ]
    },
    {
      "cell_type": "markdown",
      "source": [
        "#### Precision, Recall, F-score for EACH class in Testing Dataset"
      ],
      "metadata": {
        "id": "gokeMtvqZHSL"
      }
    },
    {
      "cell_type": "code",
      "source": [
        "# Generate the classification report as a dictionary\n",
        "stats_dict = classification_report(y_test, yhat_test, output_dict=True)\n",
        "\n",
        "# Loop through each class and print the precision, recall, and F1-score\n",
        "for class_label, metrics in stats_dict.items():\n",
        "    if class_label not in ['accuracy', 'macro avg', 'weighted avg']:  # Exclude summary metrics\n",
        "        print(f\"Class {class_label}:\")\n",
        "        print(f\"  Precision: {metrics['precision']:.2f}\")\n",
        "        print(f\"  Recall:    {metrics['recall']:.2f}\")\n",
        "        print(f\"  F1-score:  {metrics['f1-score']:.2f}\")\n",
        "        print()"
      ],
      "metadata": {
        "colab": {
          "base_uri": "https://localhost:8080/"
        },
        "id": "r4_m-R7_YvcD",
        "outputId": "88567cbe-d5ea-48ad-a946-d9aeba95c3c0"
      },
      "execution_count": 23,
      "outputs": [
        {
          "output_type": "stream",
          "name": "stdout",
          "text": [
            "Class 0:\n",
            "  Precision: 0.96\n",
            "  Recall:    0.93\n",
            "  F1-score:  0.95\n",
            "\n",
            "Class 1:\n",
            "  Precision: 0.66\n",
            "  Recall:    0.77\n",
            "  F1-score:  0.71\n",
            "\n"
          ]
        }
      ]
    },
    {
      "cell_type": "markdown",
      "source": [
        "#### ROC Curve of Testing Dataset"
      ],
      "metadata": {
        "id": "JqA_C0u6WAXU"
      }
    },
    {
      "cell_type": "code",
      "source": [
        "# Compute ROC curve and ROC area for each class\n",
        "from sklearn.metrics import roc_curve, roc_auc_score, precision_recall_curve, confusion_matrix, auc, accuracy_score\n",
        "\n",
        "# class 0\n",
        "fpr_0, tpr_0, _ = roc_curve(y_test, y_score_test[:, 0], pos_label=0)\n",
        "roc_auc_0 = auc(fpr_0, tpr_0)\n",
        "\n",
        "# class 1\n",
        "fpr_1, tpr_1, _ = roc_curve(y_test, y_score_test[:, 1], pos_label=1)\n",
        "roc_auc_1 = auc(fpr_1, tpr_1)"
      ],
      "metadata": {
        "id": "IRcZvh3pbnU3"
      },
      "execution_count": 25,
      "outputs": []
    },
    {
      "cell_type": "code",
      "source": [
        "# plot ROC curves\n",
        "print('roc_auc_0: ', roc_auc_0)\n",
        "print('roc_auc_1: ', roc_auc_1, '\\n')\n",
        "\n",
        "plt.plot(fpr_0, tpr_0, marker='.', label='ROC curve of class 0 (area = %0.2f)' % roc_auc_0, color='b')\n",
        "plt.plot(fpr_1, tpr_1, marker='.', label='ROC curve of class 1 (area = %0.2f)' % roc_auc_1, color='r')\n",
        "\n",
        "plt.xlabel('False Positive Rate')\n",
        "plt.ylabel('True Positive Rate')\n",
        "plt.legend()\n",
        "plt.show()"
      ],
      "metadata": {
        "colab": {
          "base_uri": "https://localhost:8080/",
          "height": 501
        },
        "id": "kL9baGJXUxx5",
        "outputId": "5a07423c-1cdb-43ec-9e37-904687b7b03d"
      },
      "execution_count": 26,
      "outputs": [
        {
          "output_type": "stream",
          "name": "stdout",
          "text": [
            "roc_auc_0:  0.9356117566643883\n",
            "roc_auc_1:  0.9454545454545455 \n",
            "\n"
          ]
        },
        {
          "output_type": "display_data",
          "data": {
            "text/plain": [
              "<Figure size 640x480 with 1 Axes>"
            ],
            "image/png": "[encoded data removed]"
          },
          "metadata": {}
        }
      ]
    }
  ]
}